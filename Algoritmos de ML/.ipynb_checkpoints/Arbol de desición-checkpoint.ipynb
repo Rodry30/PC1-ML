{
 "cells": [
  {
   "cell_type": "code",
   "execution_count": 2,
   "id": "63e764e3-30a1-4d7f-9624-4046f23b659d",
   "metadata": {},
   "outputs": [],
   "source": [
    "import pandas as pd\n",
    "import numpy as np\n",
    "import matplotlib.pyplot as plt\n",
    "import seaborn as sb\n",
    "\n",
    "dataframe = pd.read_csv('heart_disease_transformed.csv')"
   ]
  },
  {
   "cell_type": "code",
   "execution_count": 3,
   "id": "a0552820-2666-46a4-985d-3472a6149b8e",
   "metadata": {},
   "outputs": [],
   "source": [
    "# Variables\n",
    "y = dataframe['HeartDisease']\n",
    "x = dataframe.drop('HeartDisease', axis=1)"
   ]
  },
  {
   "cell_type": "code",
   "execution_count": 4,
   "id": "3d6e2f37-e322-49b8-8c77-a8504a180981",
   "metadata": {},
   "outputs": [],
   "source": [
    "#Crear y entrenar el modelo\n",
    "from sklearn.model_selection import train_test_split\n",
    "x_train, x_test, y_train, y_test = train_test_split(x, y, test_size=0.3, random_state=30)\n",
    "\n",
    "from sklearn.tree import DecisionTreeClassifier\n",
    "tree_model = DecisionTreeClassifier(random_state=42)\n",
    "tree_model.fit(x_train, y_train)\n",
    "\n",
    "\n",
    "#predecir valores\n",
    "predicciones = tree_model.predict(x_test)"
   ]
  },
  {
   "cell_type": "code",
   "execution_count": 5,
   "id": "255b0ccf-adbb-4d70-8369-ef32312118cd",
   "metadata": {},
   "outputs": [
    {
     "name": "stdout",
     "output_type": "stream",
     "text": [
      "                        Normal  Insuficiencia cardiaca\n",
      "Normal                      98                      29\n",
      "Insuficiencia cardiaca      29                     120\n",
      "\n",
      "Reporte de clasificación:\n",
      "                        precision    recall  f1-score   support\n",
      "\n",
      "                Normal       0.77      0.77      0.77       127\n",
      "Insuficiencia cardiaca       0.81      0.81      0.81       149\n",
      "\n",
      "              accuracy                           0.79       276\n",
      "             macro avg       0.79      0.79      0.79       276\n",
      "          weighted avg       0.79      0.79      0.79       276\n",
      "\n"
     ]
    }
   ],
   "source": [
    "#Matriz de confusión y reporte\n",
    "from sklearn.metrics import classification_report, confusion_matrix\n",
    "\n",
    "labels = [\"Normal\", \"Insuficiencia cardiaca\"]\n",
    "matriz = confusion_matrix(y_test, predicciones, labels=[0,1])\n",
    "\n",
    "print(pd.DataFrame(matriz, index=labels, columns=labels))\n",
    "\n",
    "print(\"\\nReporte de clasificación:\")\n",
    "print(classification_report(y_test, predicciones, target_names=labels))"
   ]
  },
  {
   "cell_type": "code",
   "execution_count": 6,
   "id": "1692b05c-321a-4509-ab43-73fbf7dee85d",
   "metadata": {},
   "outputs": [],
   "source": [
    "#Predicción nueva\n",
    "nuevo_paciente = {\n",
    "    'Age': 55,\n",
    "    'Sex': 1,\n",
    "    'ChestPainType': 2,\n",
    "    'RestingBP': 130,\n",
    "    'Cholesterol': 245,\n",
    "    'FastingBS': 0,\n",
    "    'RestingECG': 0,\n",
    "    'MaxHR': 150,\n",
    "    'ExerciseAngina': 0,\n",
    "    'Oldpeak': 1.0,\n",
    "    'ST_Slope': 1\n",
    "}\n",
    "\n",
    "paciente_df = pd.DataFrame([nuevo_paciente])\n",
    "\n",
    "\n",
    "#Predecir con el modelo de árbol\n",
    "prediccion_arbol = tree_model.predict(paciente_df)"
   ]
  },
  {
   "cell_type": "code",
   "execution_count": 12,
   "id": "587d9b74-8c2f-4d84-8d98-2c0d59636779",
   "metadata": {},
   "outputs": [
    {
     "name": "stdout",
     "output_type": "stream",
     "text": [
      "[1]\n"
     ]
    }
   ],
   "source": [
    "print(prediccion_arbol)"
   ]
  }
 ],
 "metadata": {
  "kernelspec": {
   "display_name": "Python [conda env:base] *",
   "language": "python",
   "name": "conda-base-py"
  },
  "language_info": {
   "codemirror_mode": {
    "name": "ipython",
    "version": 3
   },
   "file_extension": ".py",
   "mimetype": "text/x-python",
   "name": "python",
   "nbconvert_exporter": "python",
   "pygments_lexer": "ipython3",
   "version": "3.12.7"
  }
 },
 "nbformat": 4,
 "nbformat_minor": 5
}
