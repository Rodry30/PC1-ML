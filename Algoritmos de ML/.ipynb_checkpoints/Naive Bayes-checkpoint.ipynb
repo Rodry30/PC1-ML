{
 "cells": [
  {
   "cell_type": "code",
   "execution_count": 1,
   "id": "64d6ea8d-3ea1-44ac-8d0e-b46aec3b3663",
   "metadata": {},
   "outputs": [],
   "source": [
    "import pandas as pd\n",
    "from sklearn.model_selection import train_test_split\n",
    "from sklearn.naive_bayes import GaussianNB\n",
    "from sklearn.metrics import accuracy_score, confusion_matrix, classification_report\n",
    "\n",
    "dataframe = pd.read_csv('heart_disease_transformed.csv')"
   ]
  },
  {
   "cell_type": "code",
   "execution_count": 2,
   "id": "96fe1d9c-be4d-4a70-a02c-10f71dd3aaf0",
   "metadata": {},
   "outputs": [],
   "source": [
    "# variables\n",
    "y = dataframe['HeartDisease']\n",
    "X = dataframe.drop('HeartDisease',axis=1)"
   ]
  },
  {
   "cell_type": "code",
   "execution_count": 3,
   "id": "332ff7dd-df2b-4a74-a491-d0140acd4c4c",
   "metadata": {},
   "outputs": [],
   "source": [
    "# Dividir en conjunto de entrenamiento y prueba\n",
    "X_train, X_test, y_train, y_test = train_test_split(X, y, test_size=0.3, random_state=30)\n",
    "\n",
    "# Crear el modelo Naive Bayes \n",
    "model = GaussianNB()\n",
    "model.fit(X_train, y_train)\n",
    "\n",
    "# Hacer predicciones\n",
    "predicciones = model.predict(X_test)"
   ]
  },
  {
   "cell_type": "code",
   "execution_count": 4,
   "id": "3fe464a6-c22c-4e22-863e-e27220a51872",
   "metadata": {},
   "outputs": [
    {
     "name": "stdout",
     "output_type": "stream",
     "text": [
      "                        Normal  Insuficiencia cardiaca\n",
      "Normal                     109                      18\n",
      "Insuficiencia cardiaca      24                     125\n",
      "\n",
      "Reporte de clasificación:\n",
      "                        precision    recall  f1-score   support\n",
      "\n",
      "                Normal       0.82      0.86      0.84       127\n",
      "Insuficiencia cardiaca       0.87      0.84      0.86       149\n",
      "\n",
      "              accuracy                           0.85       276\n",
      "             macro avg       0.85      0.85      0.85       276\n",
      "          weighted avg       0.85      0.85      0.85       276\n",
      "\n"
     ]
    }
   ],
   "source": [
    "# 7. Evaluar el modelo\n",
    "# Matriz de confusión y reporte\n",
    "from sklearn.metrics import classification_report, confusion_matrix\n",
    "\n",
    "labels = [\"Normal\", \"Insuficiencia cardiaca\"]\n",
    "matriz = confusion_matrix(y_test, predicciones, labels=[0,1])\n",
    "\n",
    "print(pd.DataFrame(matriz, index=labels, columns=labels))\n",
    "\n",
    "print(\"\\nReporte de clasificación:\")\n",
    "print(classification_report(y_test, predicciones, target_names=labels))"
   ]
  },
  {
   "cell_type": "code",
   "execution_count": null,
   "id": "dcc49093-bb41-402e-b3cc-f799c0861044",
   "metadata": {},
   "outputs": [],
   "source": []
  }
 ],
 "metadata": {
  "kernelspec": {
   "display_name": "Python [conda env:base] *",
   "language": "python",
   "name": "conda-base-py"
  },
  "language_info": {
   "codemirror_mode": {
    "name": "ipython",
    "version": 3
   },
   "file_extension": ".py",
   "mimetype": "text/x-python",
   "name": "python",
   "nbconvert_exporter": "python",
   "pygments_lexer": "ipython3",
   "version": "3.12.7"
  }
 },
 "nbformat": 4,
 "nbformat_minor": 5
}
