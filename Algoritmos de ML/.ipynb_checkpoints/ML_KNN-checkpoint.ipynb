{
 "cells": [
  {
   "cell_type": "code",
   "execution_count": 1,
   "id": "54d2d324-4bb3-451c-aece-a8810ff7489c",
   "metadata": {},
   "outputs": [],
   "source": [
    "## Importar librerias y dataset\n",
    "import pandas as pd\n",
    "import numpy as np\n",
    "import matplotlib.pyplot as plt\n",
    "import seaborn as sb\n",
    "\n",
    "## Carga del dataset \n",
    "dataframe = pd.read_csv('heart_disease_transformed.csv')\n",
    "clasificadores = ['Normal','Enfermedad']"
   ]
  },
  {
   "cell_type": "code",
   "execution_count": 2,
   "id": "504d57ad-fd51-40a5-b974-e61ff67cb120",
   "metadata": {},
   "outputs": [
    {
     "data": {
      "text/html": [
       "<div>\n",
       "<style scoped>\n",
       "    .dataframe tbody tr th:only-of-type {\n",
       "        vertical-align: middle;\n",
       "    }\n",
       "\n",
       "    .dataframe tbody tr th {\n",
       "        vertical-align: top;\n",
       "    }\n",
       "\n",
       "    .dataframe thead th {\n",
       "        text-align: right;\n",
       "    }\n",
       "</style>\n",
       "<table border=\"1\" class=\"dataframe\">\n",
       "  <thead>\n",
       "    <tr style=\"text-align: right;\">\n",
       "      <th></th>\n",
       "      <th>Age</th>\n",
       "      <th>Sex</th>\n",
       "      <th>ChestPainType</th>\n",
       "      <th>RestingBP</th>\n",
       "      <th>Cholesterol</th>\n",
       "      <th>FastingBS</th>\n",
       "      <th>RestingECG</th>\n",
       "      <th>MaxHR</th>\n",
       "      <th>ExerciseAngina</th>\n",
       "      <th>Oldpeak</th>\n",
       "      <th>ST_Slope</th>\n",
       "      <th>HeartDisease</th>\n",
       "    </tr>\n",
       "  </thead>\n",
       "  <tbody>\n",
       "    <tr>\n",
       "      <th>0</th>\n",
       "      <td>40</td>\n",
       "      <td>1</td>\n",
       "      <td>1</td>\n",
       "      <td>140</td>\n",
       "      <td>289</td>\n",
       "      <td>0</td>\n",
       "      <td>0</td>\n",
       "      <td>172</td>\n",
       "      <td>0</td>\n",
       "      <td>0.0</td>\n",
       "      <td>0</td>\n",
       "      <td>0</td>\n",
       "    </tr>\n",
       "    <tr>\n",
       "      <th>1</th>\n",
       "      <td>49</td>\n",
       "      <td>0</td>\n",
       "      <td>2</td>\n",
       "      <td>160</td>\n",
       "      <td>180</td>\n",
       "      <td>0</td>\n",
       "      <td>0</td>\n",
       "      <td>156</td>\n",
       "      <td>0</td>\n",
       "      <td>1.0</td>\n",
       "      <td>1</td>\n",
       "      <td>1</td>\n",
       "    </tr>\n",
       "    <tr>\n",
       "      <th>2</th>\n",
       "      <td>37</td>\n",
       "      <td>1</td>\n",
       "      <td>1</td>\n",
       "      <td>130</td>\n",
       "      <td>283</td>\n",
       "      <td>0</td>\n",
       "      <td>1</td>\n",
       "      <td>98</td>\n",
       "      <td>0</td>\n",
       "      <td>0.0</td>\n",
       "      <td>0</td>\n",
       "      <td>0</td>\n",
       "    </tr>\n",
       "    <tr>\n",
       "      <th>3</th>\n",
       "      <td>48</td>\n",
       "      <td>0</td>\n",
       "      <td>3</td>\n",
       "      <td>138</td>\n",
       "      <td>214</td>\n",
       "      <td>0</td>\n",
       "      <td>0</td>\n",
       "      <td>108</td>\n",
       "      <td>1</td>\n",
       "      <td>1.5</td>\n",
       "      <td>1</td>\n",
       "      <td>1</td>\n",
       "    </tr>\n",
       "    <tr>\n",
       "      <th>4</th>\n",
       "      <td>54</td>\n",
       "      <td>1</td>\n",
       "      <td>2</td>\n",
       "      <td>150</td>\n",
       "      <td>195</td>\n",
       "      <td>0</td>\n",
       "      <td>0</td>\n",
       "      <td>122</td>\n",
       "      <td>0</td>\n",
       "      <td>0.0</td>\n",
       "      <td>0</td>\n",
       "      <td>0</td>\n",
       "    </tr>\n",
       "    <tr>\n",
       "      <th>5</th>\n",
       "      <td>39</td>\n",
       "      <td>1</td>\n",
       "      <td>2</td>\n",
       "      <td>120</td>\n",
       "      <td>339</td>\n",
       "      <td>0</td>\n",
       "      <td>0</td>\n",
       "      <td>170</td>\n",
       "      <td>0</td>\n",
       "      <td>0.0</td>\n",
       "      <td>0</td>\n",
       "      <td>0</td>\n",
       "    </tr>\n",
       "    <tr>\n",
       "      <th>6</th>\n",
       "      <td>45</td>\n",
       "      <td>0</td>\n",
       "      <td>1</td>\n",
       "      <td>130</td>\n",
       "      <td>237</td>\n",
       "      <td>0</td>\n",
       "      <td>0</td>\n",
       "      <td>170</td>\n",
       "      <td>0</td>\n",
       "      <td>0.0</td>\n",
       "      <td>0</td>\n",
       "      <td>0</td>\n",
       "    </tr>\n",
       "    <tr>\n",
       "      <th>7</th>\n",
       "      <td>54</td>\n",
       "      <td>1</td>\n",
       "      <td>1</td>\n",
       "      <td>110</td>\n",
       "      <td>208</td>\n",
       "      <td>0</td>\n",
       "      <td>0</td>\n",
       "      <td>142</td>\n",
       "      <td>0</td>\n",
       "      <td>0.0</td>\n",
       "      <td>0</td>\n",
       "      <td>0</td>\n",
       "    </tr>\n",
       "    <tr>\n",
       "      <th>8</th>\n",
       "      <td>37</td>\n",
       "      <td>1</td>\n",
       "      <td>3</td>\n",
       "      <td>140</td>\n",
       "      <td>207</td>\n",
       "      <td>0</td>\n",
       "      <td>0</td>\n",
       "      <td>130</td>\n",
       "      <td>1</td>\n",
       "      <td>1.5</td>\n",
       "      <td>1</td>\n",
       "      <td>1</td>\n",
       "    </tr>\n",
       "    <tr>\n",
       "      <th>9</th>\n",
       "      <td>48</td>\n",
       "      <td>0</td>\n",
       "      <td>1</td>\n",
       "      <td>120</td>\n",
       "      <td>284</td>\n",
       "      <td>0</td>\n",
       "      <td>0</td>\n",
       "      <td>120</td>\n",
       "      <td>0</td>\n",
       "      <td>0.0</td>\n",
       "      <td>0</td>\n",
       "      <td>0</td>\n",
       "    </tr>\n",
       "  </tbody>\n",
       "</table>\n",
       "</div>"
      ],
      "text/plain": [
       "   Age  Sex  ChestPainType  RestingBP  Cholesterol  FastingBS  RestingECG  \\\n",
       "0   40    1              1        140          289          0           0   \n",
       "1   49    0              2        160          180          0           0   \n",
       "2   37    1              1        130          283          0           1   \n",
       "3   48    0              3        138          214          0           0   \n",
       "4   54    1              2        150          195          0           0   \n",
       "5   39    1              2        120          339          0           0   \n",
       "6   45    0              1        130          237          0           0   \n",
       "7   54    1              1        110          208          0           0   \n",
       "8   37    1              3        140          207          0           0   \n",
       "9   48    0              1        120          284          0           0   \n",
       "\n",
       "   MaxHR  ExerciseAngina  Oldpeak  ST_Slope  HeartDisease  \n",
       "0    172               0      0.0         0             0  \n",
       "1    156               0      1.0         1             1  \n",
       "2     98               0      0.0         0             0  \n",
       "3    108               1      1.5         1             1  \n",
       "4    122               0      0.0         0             0  \n",
       "5    170               0      0.0         0             0  \n",
       "6    170               0      0.0         0             0  \n",
       "7    142               0      0.0         0             0  \n",
       "8    130               1      1.5         1             1  \n",
       "9    120               0      0.0         0             0  "
      ]
     },
     "execution_count": 2,
     "metadata": {},
     "output_type": "execute_result"
    }
   ],
   "source": [
    "## Mostara primeras diez filas\n",
    "dataframe.head(10)"
   ]
  },
  {
   "cell_type": "code",
   "execution_count": 3,
   "id": "a7658bab-3ee4-4cf2-961e-39998a9dc413",
   "metadata": {},
   "outputs": [
    {
     "data": {
      "text/plain": [
       "HeartDisease\n",
       "0    410\n",
       "1    508\n",
       "dtype: int64"
      ]
     },
     "execution_count": 3,
     "metadata": {},
     "output_type": "execute_result"
    }
   ],
   "source": [
    "## Cantidad de datos con enfermedad cardiaca o normal\n",
    "dataframe.groupby('HeartDisease').size()"
   ]
  },
  {
   "cell_type": "code",
   "execution_count": 4,
   "id": "5a20d6c9-e08a-41a8-9a99-9b889190cd2b",
   "metadata": {},
   "outputs": [
    {
     "data": {
      "text/plain": [
       "<seaborn.axisgrid.FacetGrid at 0x215778f3440>"
      ]
     },
     "execution_count": 4,
     "metadata": {},
     "output_type": "execute_result"
    },
    {
     "data": {
      "image/png": "[encoded data removed]",
      "text/plain": [
       "<Figure size 211.111x250 with 1 Axes>"
      ]
     },
     "metadata": {},
     "output_type": "display_data"
    }
   ],
   "source": [
    "## Grafico comparativos entre tipos de casos\n",
    "sb.catplot(x = 'HeartDisease',data=dataframe,kind=\"count\",height=2.5,aspect=.8)"
   ]
  },
  {
   "cell_type": "code",
   "execution_count": 5,
   "id": "2abafaea-88b5-43d1-8302-e92eb3520c1e",
   "metadata": {},
   "outputs": [],
   "source": [
    "## Dividir los tipos de variables\n",
    "y = dataframe['HeartDisease']\n",
    "x = dataframe.drop('HeartDisease',axis=1)"
   ]
  },
  {
   "cell_type": "code",
   "execution_count": 9,
   "id": "65b3e41f-eb20-4852-b320-6bf19fa8b098",
   "metadata": {},
   "outputs": [
    {
     "name": "stdout",
     "output_type": "stream",
     "text": [
      "                        Normal  Insuficiencia cardiaca\n",
      "Normal                      86                      41\n",
      "Insuficiencia cardiaca      39                     110\n",
      "              precision    recall  f1-score   support\n",
      "\n",
      "      Normal       0.69      0.68      0.68       127\n",
      "  Enfermedad       0.73      0.74      0.73       149\n",
      "\n",
      "    accuracy                           0.71       276\n",
      "   macro avg       0.71      0.71      0.71       276\n",
      "weighted avg       0.71      0.71      0.71       276\n",
      "\n"
     ]
    }
   ],
   "source": [
    "from sklearn.model_selection import train_test_split\n",
    "x_train,x_test,y_train, y_test = train_test_split(x,y,test_size=0.3,random_state=30)\n",
    "\n",
    "from sklearn.neighbors import KNeighborsClassifier\n",
    "knn_mm = KNeighborsClassifier(n_neighbors=5)\n",
    "\n",
    "#Entrenar el algoritmo\n",
    "knn_mm.fit(x_train,y_train)\n",
    "predicciones = knn_mm.predict(x_test)\n",
    "\n",
    "from sklearn.metrics import classification_report, confusion_matrix\n",
    "tn, fp, fn, tp = confusion_matrix(y_test,predicciones).ravel()\n",
    "\n",
    "labels = [\"Normal\",\"Insuficiencia cardiaca\"]\n",
    "matriz = confusion_matrix(y_test,predicciones, labels=[0,1])\n",
    "print(pd.DataFrame(matriz, index = labels, columns = labels))\n",
    "\n",
    "print(classification_report(y_test,predicciones,target_names=clasificadores))"
   ]
  },
  {
   "cell_type": "code",
   "execution_count": 12,
   "id": "2d0bd1b3-8a55-4a43-83cd-59f720acc5c0",
   "metadata": {},
   "outputs": [],
   "source": [
    "##Evaluar el modelo\n",
    "#Prediccion nueva\n",
    "nuevo_paciente = {\n",
    "    'Age': 55,\n",
    "    'Sex': 1,\n",
    "    'ChestPainType': 2,\n",
    "    'RestingBP': 130,\n",
    "    'Cholesterol': 245,\n",
    "    'FastingBS': 0,\n",
    "    'RestingECG': 0,\n",
    "    'MaxHR': 150,\n",
    "    'ExerciseAngina': 0,\n",
    "    'Oldpeak': 1.0,\n",
    "    'ST_Slope': 1\n",
    "}\n",
    "\n",
    "paciente_df = pd.DataFrame([nuevo_paciente])\n",
    "\n",
    "prediccion_knn = knn_mm.predict(paciente_df)\n",
    "prediccion_knnproba = knn_mm.predict_proba(paciente_df)"
   ]
  },
  {
   "cell_type": "code",
   "execution_count": 15,
   "id": "65e4e0f5-1e75-4abc-b9a1-ee94b9a47d77",
   "metadata": {},
   "outputs": [
    {
     "name": "stdout",
     "output_type": "stream",
     "text": [
      "[1]\n",
      "[[0.4 0.6]]\n"
     ]
    }
   ],
   "source": [
    "print(prediccion_knn)\n",
    "print(prediccion_knnproba)"
   ]
  },
  {
   "cell_type": "code",
   "execution_count": null,
   "id": "046d767a-ab60-4fd4-b228-a9762d971589",
   "metadata": {},
   "outputs": [],
   "source": []
  }
 ],
 "metadata": {
  "kernelspec": {
   "display_name": "Python [conda env:base] *",
   "language": "python",
   "name": "conda-base-py"
  },
  "language_info": {
   "codemirror_mode": {
    "name": "ipython",
    "version": 3
   },
   "file_extension": ".py",
   "mimetype": "text/x-python",
   "name": "python",
   "nbconvert_exporter": "python",
   "pygments_lexer": "ipython3",
   "version": "3.12.7"
  }
 },
 "nbformat": 4,
 "nbformat_minor": 5
}
