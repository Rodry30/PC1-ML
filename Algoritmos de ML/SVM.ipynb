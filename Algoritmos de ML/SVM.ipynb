{
 "cells": [
  {
   "cell_type": "code",
   "execution_count": 1,
   "id": "10d9d54a-beb3-4634-823f-e10f5673f652",
   "metadata": {},
   "outputs": [],
   "source": [
    "import pandas as pd\n",
    "import numpy as np\n",
    "import matplotlib.pyplot as plt\n",
    "import seaborn as sb\n",
    "\n",
    "dataframe = pd.read_csv('heart_disease_transformed.csv')"
   ]
  },
  {
   "cell_type": "code",
   "execution_count": 2,
   "id": "39577432-468c-4527-9f34-7019bca11d27",
   "metadata": {},
   "outputs": [],
   "source": [
    "# Variables\n",
    "y = dataframe['HeartDisease']\n",
    "x = dataframe.drop('HeartDisease', axis=1)"
   ]
  },
  {
   "cell_type": "code",
   "execution_count": 3,
   "id": "1ad955b4-dfdd-468b-8065-1f28c9a106ab",
   "metadata": {},
   "outputs": [
    {
     "name": "stdout",
     "output_type": "stream",
     "text": [
      "                        Normal  Insuficiencia cardiaca\n",
      "Normal                     105                      22\n",
      "Insuficiencia cardiaca      12                     137\n",
      "\n",
      "Reporte de clasificación:\n",
      "                        precision    recall  f1-score   support\n",
      "\n",
      "                Normal       0.90      0.83      0.86       127\n",
      "Insuficiencia cardiaca       0.86      0.92      0.89       149\n",
      "\n",
      "              accuracy                           0.88       276\n",
      "             macro avg       0.88      0.87      0.88       276\n",
      "          weighted avg       0.88      0.88      0.88       276\n",
      "\n"
     ]
    }
   ],
   "source": [
    "from sklearn.model_selection import train_test_split\n",
    "x_train, x_test, y_train, y_test = train_test_split(x, y, test_size=0.3, random_state=30)\n",
    "\n",
    "# Escalar las variables\n",
    "from sklearn.preprocessing import StandardScaler\n",
    "scaler = StandardScaler()\n",
    "x_train = scaler.fit_transform(x_train)\n",
    "x_test = scaler.transform(x_test)\n",
    "\n",
    "# Crear el modelo SVM\n",
    "from sklearn.svm import SVC\n",
    "svm_model = SVC(kernel='rbf')\n",
    "svm_model.fit(x_train, y_train)\n",
    "\n",
    "# Realizar predicciones\n",
    "predicciones = svm_model.predict(x_test)\n",
    "\n",
    "# Matriz de confusión y reporte\n",
    "from sklearn.metrics import classification_report, confusion_matrix\n",
    "\n",
    "labels = [\"Normal\", \"Insuficiencia cardiaca\"]\n",
    "matriz = confusion_matrix(y_test, predicciones, labels=[0,1])\n",
    "\n",
    "print(pd.DataFrame(matriz, index=labels, columns=labels))\n",
    "\n",
    "print(\"\\nReporte de clasificación:\")\n",
    "print(classification_report(y_test, predicciones, target_names=labels))"
   ]
  },
  {
   "cell_type": "code",
   "execution_count": 4,
   "id": "67209ff4-daa0-4963-a5c4-fde14bf58578",
   "metadata": {},
   "outputs": [],
   "source": [
    "#Prediccion nueva\n",
    "nuevo_paciente = {\n",
    "    'Age': 55,\n",
    "    'Sex': 1,\n",
    "    'ChestPainType': 2,\n",
    "    'RestingBP': 130,\n",
    "    'Cholesterol': 245,\n",
    "    'FastingBS': 0,\n",
    "    'RestingECG': 0,\n",
    "    'MaxHR': 150,\n",
    "    'ExerciseAngina': 0,\n",
    "    'Oldpeak': 1.0,\n",
    "    'ST_Slope': 1\n",
    "}\n",
    "\n",
    "paciente_df = pd.DataFrame([nuevo_paciente])\n",
    "paciente_scaled = scaler.transform(paciente_df)\n",
    "\n",
    "prediccion_svm = svm_model.predict(paciente_scaled)"
   ]
  },
  {
   "cell_type": "code",
   "execution_count": 5,
   "id": "6e77eb65-de3c-44a9-81ef-4acdd7d2e467",
   "metadata": {},
   "outputs": [
    {
     "name": "stdout",
     "output_type": "stream",
     "text": [
      "[1]\n"
     ]
    }
   ],
   "source": [
    "print(prediccion_svm)"
   ]
  }
 ],
 "metadata": {
  "kernelspec": {
   "display_name": "Python [conda env:base] *",
   "language": "python",
   "name": "conda-base-py"
  },
  "language_info": {
   "codemirror_mode": {
    "name": "ipython",
    "version": 3
   },
   "file_extension": ".py",
   "mimetype": "text/x-python",
   "name": "python",
   "nbconvert_exporter": "python",
   "pygments_lexer": "ipython3",
   "version": "3.12.7"
  }
 },
 "nbformat": 4,
 "nbformat_minor": 5
}
