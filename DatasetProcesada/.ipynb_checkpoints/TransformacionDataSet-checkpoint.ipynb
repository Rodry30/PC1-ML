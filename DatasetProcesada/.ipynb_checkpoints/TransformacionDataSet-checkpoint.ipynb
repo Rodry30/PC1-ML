{
 "cells": [
  {
   "cell_type": "code",
   "execution_count": 1,
   "id": "1e39874d-8531-40fa-bbbc-94d80f1f4e9a",
   "metadata": {},
   "outputs": [],
   "source": [
    "import pandas as pd\n",
    "\n",
    "df = pd.read_csv('DatasetOriginal.csv')"
   ]
  },
  {
   "cell_type": "code",
   "execution_count": 2,
   "id": "715071f0-8928-404a-8e03-7e3d4bdee181",
   "metadata": {},
   "outputs": [],
   "source": [
    "### Mapeos manuales para convertir texto en números\n",
    "sex_mapping = {'M': 1, 'F': 0}\n",
    "chest_pain_mapping = {'TA': 0, 'ATA': 1, 'NAP': 2, 'ASY': 3}\n",
    "resting_ecg_mapping = {'Normal': 0, 'ST': 1, 'LVH': 2}\n",
    "exercise_angina_mapping = {'N': 0, 'Y': 1}\n",
    "st_slope_mapping = {'Up': 0, 'Flat': 1, 'Down': 2}"
   ]
  },
  {
   "cell_type": "code",
   "execution_count": 5,
   "id": "7966ceff-95f2-4988-8716-01fee91105a4",
   "metadata": {},
   "outputs": [],
   "source": [
    "### Aplicar los mapeos\n",
    "df['Sex'] = df['Sex'].map(sex_mapping)\n",
    "df['ChestPainType'] = df['ChestPainType'].map(chest_pain_mapping)\n",
    "df['RestingECG'] = df['RestingECG'].map(resting_ecg_mapping)\n",
    "df['ExerciseAngina'] = df['ExerciseAngina'].map(exercise_angina_mapping)\n",
    "df['ST_Slope'] = df['ST_Slope'].map(st_slope_mapping)"
   ]
  },
  {
   "cell_type": "code",
   "execution_count": 7,
   "id": "3fe44215-8cbd-4fe5-b884-fe94139452d7",
   "metadata": {},
   "outputs": [
    {
     "name": "stdout",
     "output_type": "stream",
     "text": [
      "Se guardó el archivo CSV como 'heart_disease_transformed.csv'\n"
     ]
    }
   ],
   "source": [
    "### Guardar el dataset limpio en CSV\n",
    "df.to_csv('heart_disease_transformed.csv', index=False)\n",
    "\n",
    "print(\"Se guardó el archivo CSV como 'heart_disease_transformed.csv'\")"
   ]
  },
  {
   "cell_type": "code",
   "execution_count": null,
   "id": "29557756-4162-4897-9257-01b86b76a308",
   "metadata": {},
   "outputs": [],
   "source": []
  }
 ],
 "metadata": {
  "kernelspec": {
   "display_name": "Python [conda env:base] *",
   "language": "python",
   "name": "conda-base-py"
  },
  "language_info": {
   "codemirror_mode": {
    "name": "ipython",
    "version": 3
   },
   "file_extension": ".py",
   "mimetype": "text/x-python",
   "name": "python",
   "nbconvert_exporter": "python",
   "pygments_lexer": "ipython3",
   "version": "3.12.7"
  }
 },
 "nbformat": 4,
 "nbformat_minor": 5
}
